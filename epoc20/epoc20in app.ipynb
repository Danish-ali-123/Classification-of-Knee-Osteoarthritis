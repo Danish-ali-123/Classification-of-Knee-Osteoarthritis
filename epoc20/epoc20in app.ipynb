{
 "cells": [
  {
   "cell_type": "code",
   "execution_count": null,
   "id": "6b324f61",
   "metadata": {},
   "outputs": [
    {
     "name": "stdout",
     "output_type": "stream",
     "text": [
      " * Serving Flask app \"__main__\" (lazy loading)\n",
      " * Environment: production\n",
      "\u001b[31m   WARNING: This is a development server. Do not use it in a production deployment.\u001b[0m\n",
      "\u001b[2m   Use a production WSGI server instead.\u001b[0m\n",
      " * Debug mode: off\n"
     ]
    },
    {
     "name": "stderr",
     "output_type": "stream",
     "text": [
      " * Running on http://127.0.0.1:5000/ (Press CTRL+C to quit)\n",
      "127.0.0.1 - - [11/Jan/2024 17:46:39] \"GET / HTTP/1.1\" 200 -\n",
      "127.0.0.1 - - [11/Jan/2024 17:46:39] \"GET /static/css/main.csss HTTP/1.1\" 404 -\n"
     ]
    },
    {
     "name": "stdout",
     "output_type": "stream",
     "text": [
      "1/1 [==============================] - 2s 2s/step\n"
     ]
    },
    {
     "name": "stderr",
     "output_type": "stream",
     "text": [
      "127.0.0.1 - - [11/Jan/2024 17:46:50] \"POST /predict HTTP/1.1\" 200 -\n"
     ]
    },
    {
     "name": "stdout",
     "output_type": "stream",
     "text": [
      "Severe\n",
      "1/1 [==============================] - 1s 700ms/step\n"
     ]
    },
    {
     "name": "stderr",
     "output_type": "stream",
     "text": [
      "127.0.0.1 - - [11/Jan/2024 17:47:05] \"POST /predict HTTP/1.1\" 200 -\n"
     ]
    },
    {
     "name": "stdout",
     "output_type": "stream",
     "text": [
      "Severe\n",
      "1/1 [==============================] - 1s 666ms/step\n"
     ]
    },
    {
     "name": "stderr",
     "output_type": "stream",
     "text": [
      "127.0.0.1 - - [11/Jan/2024 17:47:21] \"POST /predict HTTP/1.1\" 200 -\n"
     ]
    },
    {
     "name": "stdout",
     "output_type": "stream",
     "text": [
      "Severe\n",
      "1/1 [==============================] - 1s 582ms/step\n"
     ]
    },
    {
     "name": "stderr",
     "output_type": "stream",
     "text": [
      "127.0.0.1 - - [11/Jan/2024 17:47:45] \"POST /predict HTTP/1.1\" 200 -\n"
     ]
    },
    {
     "name": "stdout",
     "output_type": "stream",
     "text": [
      "Moderate\n"
     ]
    }
   ],
   "source": [
    "import os\n",
    "from flask import Flask, render_template, request\n",
    "from keras.models import load_model\n",
    "import numpy as np\n",
    "from PIL import Image\n",
    "\n",
    "app = Flask(__name__)\n",
    "\n",
    "dic = {0: 'Normal', 1: 'Mild', 2: 'Moderate', 3: 'Severe', 4: 'Invalid'}\n",
    "\n",
    "# Image Size\n",
    "img_size = 256\n",
    "model = load_model(\"kneemodel20.h5\")\n",
    "\n",
    "model.make_predict_function()\n",
    "\n",
    "def predict_label(img_path):\n",
    "    img = Image.open(img_path)  # Open image in grayscale mode\n",
    "    img = img.convert(\"RGB\")\n",
    "    resized = img.resize((img_size, img_size))\n",
    "    i = np.array(resized) / 255.0\n",
    "    i = i.reshape(-1,img_size, img_size, 3)\n",
    "\n",
    "    p = model.predict(i)\n",
    "    p = np.argmax(p, axis=1)\n",
    "    return dic[p[0]]\n",
    "\n",
    "\n",
    "# routes\n",
    "@app.route(\"/\", methods=['GET', 'POST'])\n",
    "def main():\n",
    "    return render_template(\"index.html\")\n",
    "\n",
    "@app.route(\"/predict\", methods=['GET', 'POST'])\n",
    "def upload():\n",
    "    if request.method == 'POST':\n",
    "        img = request.files['file']\n",
    "        img_path = \"C:/Users/abdul/Desktop/knee model normal/Knee Osteoarthritis Detection and Doctor Recommendation System/kneeProject/uploads\" + img.filename\n",
    "        img.save(img_path)\n",
    "        p = predict_label(img_path)\n",
    "        print(p)\n",
    "        return str(p).lower()\n",
    "\n",
    "@app.route(\"/recDoc\", methods=['GET', 'POST'])\n",
    "def recDoc():\n",
    "    print(\"test\")\n",
    "    return render_template(r\"recDoc.html\")\n",
    "\n",
    "\n",
    "if __name__ == '__main__':\n",
    "    app.run()\n"
   ]
  },
  {
   "cell_type": "code",
   "execution_count": null,
   "id": "b20ae85f",
   "metadata": {},
   "outputs": [],
   "source": []
  }
 ],
 "metadata": {
  "kernelspec": {
   "display_name": "Python 3 (ipykernel)",
   "language": "python",
   "name": "python3"
  },
  "language_info": {
   "codemirror_mode": {
    "name": "ipython",
    "version": 3
   },
   "file_extension": ".py",
   "mimetype": "text/x-python",
   "name": "python",
   "nbconvert_exporter": "python",
   "pygments_lexer": "ipython3",
   "version": "3.9.7"
  }
 },
 "nbformat": 4,
 "nbformat_minor": 5
}
